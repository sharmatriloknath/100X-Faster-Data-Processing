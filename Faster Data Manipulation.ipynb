{
 "cells": [
  {
   "cell_type": "markdown",
   "metadata": {
    "slideshow": {
     "slide_type": "slide"
    }
   },
   "source": [
    "# 1000x faster data manipulation!\n",
    "## Vectorizing with pandas and NumPy\n",
    "- Here we will see the power of vectorization.\n",
    "- We will se how to speedup the data manipulation in pandas.\n",
    "- we will se some important functions\n",
    "- we will learn about `np.where()` `np.select` `vectorizer`."
   ]
  },
  {
   "cell_type": "code",
   "execution_count": 2,
   "metadata": {
    "slideshow": {
     "slide_type": "fragment"
    }
   },
   "outputs": [],
   "source": [
    "import pandas as pd\n",
    "import numpy as np\n",
    "import re\n",
    "import time\n",
    "\n",
    "from IPython.core.interactiveshell import InteractiveShell\n",
    "InteractiveShell.ast_node_interactivity = \"all\"\n",
    "\n",
    "# pd.set_option('max_columns', 15)\n",
    "# pd.set_option('chained_assignment', None)"
   ]
  },
  {
   "cell_type": "markdown",
   "metadata": {
    "slideshow": {
     "slide_type": "slide"
    }
   },
   "source": [
    "## Read in and setup the data \n",
    "This CSV is an example of the data I worked on while practicing learning how to vectorize former `.apply` functions. The data here have been scrubbed and scrambled to not relate to any real-life data."
   ]
  },
  {
   "cell_type": "code",
   "execution_count": 3,
   "metadata": {
    "slideshow": {
     "slide_type": "subslide"
    }
   },
   "outputs": [],
   "source": [
    "df = pd.read_csv('sample_data.csv', \n",
    "                 parse_dates=['Date Created', 'Original Record: Date Created'])"
   ]
  },
  {
   "cell_type": "markdown",
   "metadata": {},
   "source": [
    "### Data inspection "
   ]
  },
  {
   "cell_type": "code",
   "execution_count": 4,
   "metadata": {
    "slideshow": {
     "slide_type": "subslide"
    }
   },
   "outputs": [
    {
     "data": {
      "text/plain": [
       "(273399, 14)"
      ]
     },
     "execution_count": 4,
     "metadata": {},
     "output_type": "execute_result"
    },
    {
     "data": {
      "text/html": [
       "<div>\n",
       "<style scoped>\n",
       "    .dataframe tbody tr th:only-of-type {\n",
       "        vertical-align: middle;\n",
       "    }\n",
       "\n",
       "    .dataframe tbody tr th {\n",
       "        vertical-align: top;\n",
       "    }\n",
       "\n",
       "    .dataframe thead th {\n",
       "        text-align: right;\n",
       "    }\n",
       "</style>\n",
       "<table border=\"1\" class=\"dataframe\">\n",
       "  <thead>\n",
       "    <tr style=\"text-align: right;\">\n",
       "      <th></th>\n",
       "      <th>Internal ID</th>\n",
       "      <th>ID</th>\n",
       "      <th>Category</th>\n",
       "      <th>Lead Source</th>\n",
       "      <th>Lead Source Category</th>\n",
       "      <th>Current Status</th>\n",
       "      <th>Status at Time of Lead</th>\n",
       "      <th>Original Record: Date Created</th>\n",
       "      <th>Date Created</th>\n",
       "      <th>Inactive</th>\n",
       "      <th>Specialty</th>\n",
       "      <th>Providers</th>\n",
       "      <th>duplicate_leads</th>\n",
       "      <th>bad_leads</th>\n",
       "    </tr>\n",
       "  </thead>\n",
       "  <tbody>\n",
       "    <tr>\n",
       "      <th>0</th>\n",
       "      <td>16</td>\n",
       "      <td>1966</td>\n",
       "      <td>Practice</td>\n",
       "      <td>Nonpaid : Email : Webinar : Efficiency Kiosk A...</td>\n",
       "      <td>- None -</td>\n",
       "      <td>CLIENT-Deactivated</td>\n",
       "      <td>- None -</td>\n",
       "      <td>2003-04-30 18:15:00</td>\n",
       "      <td>2015-08-14 15:18:00</td>\n",
       "      <td>No</td>\n",
       "      <td>Dermatology</td>\n",
       "      <td>0.0</td>\n",
       "      <td>False</td>\n",
       "      <td>True</td>\n",
       "    </tr>\n",
       "    <tr>\n",
       "      <th>1</th>\n",
       "      <td>16</td>\n",
       "      <td>6213</td>\n",
       "      <td>Practice</td>\n",
       "      <td>Nonpaid : Email : Webinar : Efficiency Kiosk A...</td>\n",
       "      <td>- None -</td>\n",
       "      <td>CLIENT-Deactivated</td>\n",
       "      <td>- None -</td>\n",
       "      <td>2003-04-30 18:15:00</td>\n",
       "      <td>2015-08-14 15:18:00</td>\n",
       "      <td>No</td>\n",
       "      <td>Dermatology</td>\n",
       "      <td>0.0</td>\n",
       "      <td>True</td>\n",
       "      <td>True</td>\n",
       "    </tr>\n",
       "    <tr>\n",
       "      <th>2</th>\n",
       "      <td>16</td>\n",
       "      <td>6936</td>\n",
       "      <td>Practice</td>\n",
       "      <td>Nonpaid : Webinar : AdvancedFax and Patient : ...</td>\n",
       "      <td>- None -</td>\n",
       "      <td>CLIENT-Deactivated</td>\n",
       "      <td>- None -</td>\n",
       "      <td>2003-04-30 18:15:00</td>\n",
       "      <td>2015-12-03 17:33:00</td>\n",
       "      <td>No</td>\n",
       "      <td>Dermatology</td>\n",
       "      <td>0.0</td>\n",
       "      <td>False</td>\n",
       "      <td>True</td>\n",
       "    </tr>\n",
       "    <tr>\n",
       "      <th>3</th>\n",
       "      <td>16</td>\n",
       "      <td>4557</td>\n",
       "      <td>Practice</td>\n",
       "      <td>Nonpaid : Webinar : AdvancedFax and Patient : ...</td>\n",
       "      <td>- None -</td>\n",
       "      <td>CLIENT-Deactivated</td>\n",
       "      <td>- None -</td>\n",
       "      <td>2003-04-30 18:15:00</td>\n",
       "      <td>2015-12-03 17:33:00</td>\n",
       "      <td>No</td>\n",
       "      <td>Dermatology</td>\n",
       "      <td>0.0</td>\n",
       "      <td>True</td>\n",
       "      <td>True</td>\n",
       "    </tr>\n",
       "    <tr>\n",
       "      <th>4</th>\n",
       "      <td>20</td>\n",
       "      <td>8637</td>\n",
       "      <td>Practice</td>\n",
       "      <td>Nonpaid : Webinar : HIPAA Audit Prep : LSID 53...</td>\n",
       "      <td>- None -</td>\n",
       "      <td>CLIENT-Live</td>\n",
       "      <td>CLIENT-Live</td>\n",
       "      <td>2003-04-30 18:15:00</td>\n",
       "      <td>2016-08-24 14:09:00</td>\n",
       "      <td>No</td>\n",
       "      <td>Plastic Surgery</td>\n",
       "      <td>1.0</td>\n",
       "      <td>False</td>\n",
       "      <td>False</td>\n",
       "    </tr>\n",
       "  </tbody>\n",
       "</table>\n",
       "</div>"
      ],
      "text/plain": [
       "   Internal ID    ID  Category  \\\n",
       "0           16  1966  Practice   \n",
       "1           16  6213  Practice   \n",
       "2           16  6936  Practice   \n",
       "3           16  4557  Practice   \n",
       "4           20  8637  Practice   \n",
       "\n",
       "                                         Lead Source Lead Source Category  \\\n",
       "0  Nonpaid : Email : Webinar : Efficiency Kiosk A...             - None -   \n",
       "1  Nonpaid : Email : Webinar : Efficiency Kiosk A...             - None -   \n",
       "2  Nonpaid : Webinar : AdvancedFax and Patient : ...             - None -   \n",
       "3  Nonpaid : Webinar : AdvancedFax and Patient : ...             - None -   \n",
       "4  Nonpaid : Webinar : HIPAA Audit Prep : LSID 53...             - None -   \n",
       "\n",
       "       Current Status Status at Time of Lead Original Record: Date Created  \\\n",
       "0  CLIENT-Deactivated               - None -           2003-04-30 18:15:00   \n",
       "1  CLIENT-Deactivated               - None -           2003-04-30 18:15:00   \n",
       "2  CLIENT-Deactivated               - None -           2003-04-30 18:15:00   \n",
       "3  CLIENT-Deactivated               - None -           2003-04-30 18:15:00   \n",
       "4         CLIENT-Live            CLIENT-Live           2003-04-30 18:15:00   \n",
       "\n",
       "         Date Created Inactive        Specialty  Providers  duplicate_leads  \\\n",
       "0 2015-08-14 15:18:00       No      Dermatology        0.0            False   \n",
       "1 2015-08-14 15:18:00       No      Dermatology        0.0             True   \n",
       "2 2015-12-03 17:33:00       No      Dermatology        0.0            False   \n",
       "3 2015-12-03 17:33:00       No      Dermatology        0.0             True   \n",
       "4 2016-08-24 14:09:00       No  Plastic Surgery        1.0            False   \n",
       "\n",
       "   bad_leads  \n",
       "0       True  \n",
       "1       True  \n",
       "2       True  \n",
       "3       True  \n",
       "4      False  "
      ]
     },
     "execution_count": 4,
     "metadata": {},
     "output_type": "execute_result"
    }
   ],
   "source": [
    "df.shape\n",
    "df.head(5)"
   ]
  },
  {
   "cell_type": "code",
   "execution_count": 4,
   "metadata": {
    "scrolled": true,
    "slideshow": {
     "slide_type": "subslide"
    }
   },
   "outputs": [
    {
     "data": {
      "text/plain": [
       "Internal ID                               int64\n",
       "ID                                        int64\n",
       "Category                                 object\n",
       "Lead Source                              object\n",
       "Lead Source Category                     object\n",
       "Current Status                           object\n",
       "Status at Time of Lead                   object\n",
       "Original Record: Date Created    datetime64[ns]\n",
       "Date Created                     datetime64[ns]\n",
       "Inactive                                 object\n",
       "Specialty                                object\n",
       "Providers                               float64\n",
       "duplicate_leads                            bool\n",
       "bad_leads                                  bool\n",
       "dtype: object"
      ]
     },
     "execution_count": 4,
     "metadata": {},
     "output_type": "execute_result"
    }
   ],
   "source": [
    "df.dtypes"
   ]
  },
  {
   "cell_type": "markdown",
   "metadata": {},
   "source": [
    "#### check how much memory dataframe is taking."
   ]
  },
  {
   "cell_type": "code",
   "execution_count": 5,
   "metadata": {},
   "outputs": [
    {
     "name": "stdout",
     "output_type": "stream",
     "text": [
      "<class 'pandas.core.frame.DataFrame'>\n",
      "RangeIndex: 273399 entries, 0 to 273398\n",
      "Data columns (total 14 columns):\n",
      " #   Column                         Non-Null Count   Dtype         \n",
      "---  ------                         --------------   -----         \n",
      " 0   Internal ID                    273399 non-null  int64         \n",
      " 1   ID                             273399 non-null  int64         \n",
      " 2   Category                       273399 non-null  object        \n",
      " 3   Lead Source                    273399 non-null  object        \n",
      " 4   Lead Source Category           273399 non-null  object        \n",
      " 5   Current Status                 273399 non-null  object        \n",
      " 6   Status at Time of Lead         273399 non-null  object        \n",
      " 7   Original Record: Date Created  273399 non-null  datetime64[ns]\n",
      " 8   Date Created                   273399 non-null  datetime64[ns]\n",
      " 9   Inactive                       273399 non-null  object        \n",
      " 10  Specialty                      273399 non-null  object        \n",
      " 11  Providers                      213908 non-null  float64       \n",
      " 12  duplicate_leads                273399 non-null  bool          \n",
      " 13  bad_leads                      273399 non-null  bool          \n",
      "dtypes: bool(2), datetime64[ns](2), float64(1), int64(2), object(7)\n",
      "memory usage: 146.4 MB\n"
     ]
    }
   ],
   "source": [
    "df.info(memory_usage='deep')"
   ]
  },
  {
   "cell_type": "markdown",
   "metadata": {},
   "source": [
    "# First attempt at vectorizing with conditionals"
   ]
  },
  {
   "cell_type": "code",
   "execution_count": 6,
   "metadata": {},
   "outputs": [],
   "source": [
    "def set_lead_status(row):\n",
    "    if row['Current Status'] == '- None -':\n",
    "        return row['Status at Time of Lead']\n",
    "    else:\n",
    "        return row['Current Status']"
   ]
  },
  {
   "cell_type": "code",
   "execution_count": 13,
   "metadata": {},
   "outputs": [],
   "source": [
    "# df['Current Status'].value_counts()\n",
    "# df['Current Status'].isna().sum()"
   ]
  },
  {
   "cell_type": "code",
   "execution_count": 14,
   "metadata": {},
   "outputs": [
    {
     "name": "stdout",
     "output_type": "stream",
     "text": [
      "3.73 s ± 102 ms per loop (mean ± std. dev. of 7 runs, 1 loop each)\n"
     ]
    }
   ],
   "source": [
    "%%timeit\n",
    "test = df.apply(set_lead_status, axis=1)"
   ]
  },
  {
   "cell_type": "code",
   "execution_count": 15,
   "metadata": {},
   "outputs": [
    {
     "name": "stdout",
     "output_type": "stream",
     "text": [
      "5.03\n"
     ]
    }
   ],
   "source": [
    "# Or another way to do it...\n",
    "start = time.time()\n",
    "\n",
    "test = df.apply(set_lead_status, axis=1)\n",
    "\n",
    "end = time.time()\n",
    "print(round(end - start, 2))"
   ]
  },
  {
   "cell_type": "markdown",
   "metadata": {},
   "source": [
    "In the above examples you can see we have loop each row of dataframe and then check the corresponding condition. To avoid this rowwise looping let's try to pass complete series as args instead of row.\n",
    "\n",
    " **Let's See What Will Happen:**"
   ]
  },
  {
   "cell_type": "code",
   "execution_count": 17,
   "metadata": {},
   "outputs": [],
   "source": [
    "def set_lead_status(col1, col2):\n",
    "    if col1 == '- None -':\n",
    "        return col2\n",
    "    else:\n",
    "        return col1"
   ]
  },
  {
   "cell_type": "code",
   "execution_count": 18,
   "metadata": {},
   "outputs": [
    {
     "ename": "ValueError",
     "evalue": "The truth value of a Series is ambiguous. Use a.empty, a.bool(), a.item(), a.any() or a.all().",
     "output_type": "error",
     "traceback": [
      "\u001b[1;31m---------------------------------------------------------------------------\u001b[0m",
      "\u001b[1;31mValueError\u001b[0m                                Traceback (most recent call last)",
      "Input \u001b[1;32mIn [18]\u001b[0m, in \u001b[0;36m<cell line: 1>\u001b[1;34m()\u001b[0m\n\u001b[1;32m----> 1\u001b[0m test1 \u001b[38;5;241m=\u001b[39m \u001b[43mset_lead_status\u001b[49m\u001b[43m(\u001b[49m\u001b[43mdf\u001b[49m\u001b[43m[\u001b[49m\u001b[38;5;124;43m'\u001b[39;49m\u001b[38;5;124;43mCurrent Status\u001b[39;49m\u001b[38;5;124;43m'\u001b[39;49m\u001b[43m]\u001b[49m\u001b[43m,\u001b[49m\u001b[43m \u001b[49m\u001b[43mdf\u001b[49m\u001b[43m[\u001b[49m\u001b[38;5;124;43m'\u001b[39;49m\u001b[38;5;124;43mStatus at Time of Lead\u001b[39;49m\u001b[38;5;124;43m'\u001b[39;49m\u001b[43m]\u001b[49m\u001b[43m)\u001b[49m\n",
      "Input \u001b[1;32mIn [17]\u001b[0m, in \u001b[0;36mset_lead_status\u001b[1;34m(col1, col2)\u001b[0m\n\u001b[0;32m      1\u001b[0m \u001b[38;5;28;01mdef\u001b[39;00m \u001b[38;5;21mset_lead_status\u001b[39m(col1, col2):\n\u001b[1;32m----> 2\u001b[0m     \u001b[38;5;28;01mif\u001b[39;00m \u001b[43mcol1\u001b[49m\u001b[43m \u001b[49m\u001b[38;5;241;43m==\u001b[39;49m\u001b[43m \u001b[49m\u001b[38;5;124;43m'\u001b[39;49m\u001b[38;5;124;43m- None -\u001b[39;49m\u001b[38;5;124;43m'\u001b[39;49m:\n\u001b[0;32m      3\u001b[0m         \u001b[38;5;28;01mreturn\u001b[39;00m col2\n\u001b[0;32m      4\u001b[0m     \u001b[38;5;28;01melse\u001b[39;00m:\n",
      "File \u001b[1;32m~\\AppData\\Local\\Programs\\Python\\Python310\\lib\\site-packages\\pandas\\core\\generic.py:1527\u001b[0m, in \u001b[0;36mNDFrame.__nonzero__\u001b[1;34m(self)\u001b[0m\n\u001b[0;32m   1525\u001b[0m \u001b[38;5;129m@final\u001b[39m\n\u001b[0;32m   1526\u001b[0m \u001b[38;5;28;01mdef\u001b[39;00m \u001b[38;5;21m__nonzero__\u001b[39m(\u001b[38;5;28mself\u001b[39m):\n\u001b[1;32m-> 1527\u001b[0m     \u001b[38;5;28;01mraise\u001b[39;00m \u001b[38;5;167;01mValueError\u001b[39;00m(\n\u001b[0;32m   1528\u001b[0m         \u001b[38;5;124mf\u001b[39m\u001b[38;5;124m\"\u001b[39m\u001b[38;5;124mThe truth value of a \u001b[39m\u001b[38;5;132;01m{\u001b[39;00m\u001b[38;5;28mtype\u001b[39m(\u001b[38;5;28mself\u001b[39m)\u001b[38;5;241m.\u001b[39m\u001b[38;5;18m__name__\u001b[39m\u001b[38;5;132;01m}\u001b[39;00m\u001b[38;5;124m is ambiguous. \u001b[39m\u001b[38;5;124m\"\u001b[39m\n\u001b[0;32m   1529\u001b[0m         \u001b[38;5;124m\"\u001b[39m\u001b[38;5;124mUse a.empty, a.bool(), a.item(), a.any() or a.all().\u001b[39m\u001b[38;5;124m\"\u001b[39m\n\u001b[0;32m   1530\u001b[0m     )\n",
      "\u001b[1;31mValueError\u001b[0m: The truth value of a Series is ambiguous. Use a.empty, a.bool(), a.item(), a.any() or a.all()."
     ]
    }
   ],
   "source": [
    "test1 = set_lead_status(df['Current Status'], df['Status at Time of Lead'])"
   ]
  },
  {
   "cell_type": "markdown",
   "metadata": {},
   "source": [
    "# What Is `numpy.where()`\n",
    "[Documentation](https://docs.scipy.org/doc/numpy/reference/generated/numpy.where.html)\n",
    "Similar to Excel 'IF' function, you give it a condition, except this condition can handle the truthiness for the entire array/column. Then give it what to return if elements on that boolean array are true or false."
   ]
  },
  {
   "cell_type": "code",
   "execution_count": 19,
   "metadata": {},
   "outputs": [
    {
     "name": "stdout",
     "output_type": "stream",
     "text": [
      "21.2 ms ± 638 µs per loop (mean ± std. dev. of 7 runs, 100 loops each)\n"
     ]
    }
   ],
   "source": [
    "%%timeit\n",
    "# Pandas Series Vectorized baby!!\n",
    "\n",
    "# you can pass the output directly into a pandas Series\n",
    "\n",
    "df['normalized_status'] = np.where(\n",
    "    df['Current Status'] == '- None -',   # <-- condition\n",
    "    df['Status at Time of Lead'],         # <-- return if true\n",
    "    df['Current Status']                  # <-- return if false\n",
    ")"
   ]
  },
  {
   "cell_type": "code",
   "execution_count": 21,
   "metadata": {},
   "outputs": [
    {
     "data": {
      "text/html": [
       "<div>\n",
       "<style scoped>\n",
       "    .dataframe tbody tr th:only-of-type {\n",
       "        vertical-align: middle;\n",
       "    }\n",
       "\n",
       "    .dataframe tbody tr th {\n",
       "        vertical-align: top;\n",
       "    }\n",
       "\n",
       "    .dataframe thead th {\n",
       "        text-align: right;\n",
       "    }\n",
       "</style>\n",
       "<table border=\"1\" class=\"dataframe\">\n",
       "  <thead>\n",
       "    <tr style=\"text-align: right;\">\n",
       "      <th></th>\n",
       "      <th>Internal ID</th>\n",
       "      <th>ID</th>\n",
       "      <th>Category</th>\n",
       "      <th>Lead Source</th>\n",
       "      <th>Lead Source Category</th>\n",
       "      <th>Current Status</th>\n",
       "      <th>Status at Time of Lead</th>\n",
       "      <th>Original Record: Date Created</th>\n",
       "      <th>Date Created</th>\n",
       "      <th>Inactive</th>\n",
       "      <th>Specialty</th>\n",
       "      <th>Providers</th>\n",
       "      <th>duplicate_leads</th>\n",
       "      <th>bad_leads</th>\n",
       "      <th>normalized_status</th>\n",
       "    </tr>\n",
       "  </thead>\n",
       "  <tbody>\n",
       "    <tr>\n",
       "      <th>0</th>\n",
       "      <td>16</td>\n",
       "      <td>1966</td>\n",
       "      <td>Practice</td>\n",
       "      <td>Nonpaid : Email : Webinar : Efficiency Kiosk A...</td>\n",
       "      <td>- None -</td>\n",
       "      <td>CLIENT-Deactivated</td>\n",
       "      <td>- None -</td>\n",
       "      <td>2003-04-30 18:15:00</td>\n",
       "      <td>2015-08-14 15:18:00</td>\n",
       "      <td>No</td>\n",
       "      <td>Dermatology</td>\n",
       "      <td>0.0</td>\n",
       "      <td>False</td>\n",
       "      <td>True</td>\n",
       "      <td>CLIENT-Deactivated</td>\n",
       "    </tr>\n",
       "    <tr>\n",
       "      <th>1</th>\n",
       "      <td>16</td>\n",
       "      <td>6213</td>\n",
       "      <td>Practice</td>\n",
       "      <td>Nonpaid : Email : Webinar : Efficiency Kiosk A...</td>\n",
       "      <td>- None -</td>\n",
       "      <td>CLIENT-Deactivated</td>\n",
       "      <td>- None -</td>\n",
       "      <td>2003-04-30 18:15:00</td>\n",
       "      <td>2015-08-14 15:18:00</td>\n",
       "      <td>No</td>\n",
       "      <td>Dermatology</td>\n",
       "      <td>0.0</td>\n",
       "      <td>True</td>\n",
       "      <td>True</td>\n",
       "      <td>CLIENT-Deactivated</td>\n",
       "    </tr>\n",
       "  </tbody>\n",
       "</table>\n",
       "</div>"
      ],
      "text/plain": [
       "   Internal ID    ID  Category  \\\n",
       "0           16  1966  Practice   \n",
       "1           16  6213  Practice   \n",
       "\n",
       "                                         Lead Source Lead Source Category  \\\n",
       "0  Nonpaid : Email : Webinar : Efficiency Kiosk A...             - None -   \n",
       "1  Nonpaid : Email : Webinar : Efficiency Kiosk A...             - None -   \n",
       "\n",
       "       Current Status Status at Time of Lead Original Record: Date Created  \\\n",
       "0  CLIENT-Deactivated               - None -           2003-04-30 18:15:00   \n",
       "1  CLIENT-Deactivated               - None -           2003-04-30 18:15:00   \n",
       "\n",
       "         Date Created Inactive    Specialty  Providers  duplicate_leads  \\\n",
       "0 2015-08-14 15:18:00       No  Dermatology        0.0            False   \n",
       "1 2015-08-14 15:18:00       No  Dermatology        0.0             True   \n",
       "\n",
       "   bad_leads   normalized_status  \n",
       "0       True  CLIENT-Deactivated  \n",
       "1       True  CLIENT-Deactivated  "
      ]
     },
     "execution_count": 21,
     "metadata": {},
     "output_type": "execute_result"
    }
   ],
   "source": [
    "df.head(2)"
   ]
  },
  {
   "cell_type": "code",
   "execution_count": 22,
   "metadata": {},
   "outputs": [
    {
     "name": "stdout",
     "output_type": "stream",
     "text": [
      "`np.where` is 237.3x faster than `.apply`\n"
     ]
    }
   ],
   "source": [
    "print(f\"`np.where` is {round((5.03 * 1000) / 21.2, 1)}x faster than `.apply`\")"
   ]
  },
  {
   "cell_type": "markdown",
   "metadata": {},
   "source": [
    "Sofia mentions in her talk that you can go even faster by accessing the underlying NumPy arrays from your pandas series. This makes it faster b/c now there's only a NumPy array of your data to pass to C, with no need for handling all the stuff attached to a pandas Series that makes them so convenient to work with."
   ]
  },
  {
   "cell_type": "code",
   "execution_count": 26,
   "metadata": {},
   "outputs": [
    {
     "data": {
      "text/plain": [
       "numpy.ndarray"
      ]
     },
     "execution_count": 26,
     "metadata": {},
     "output_type": "execute_result"
    }
   ],
   "source": [
    "type(df['Status at Time of Lead'].values)"
   ]
  },
  {
   "cell_type": "code",
   "execution_count": 28,
   "metadata": {},
   "outputs": [
    {
     "name": "stdout",
     "output_type": "stream",
     "text": [
      "8.69 ms ± 541 µs per loop (mean ± std. dev. of 7 runs, 100 loops each)\n"
     ]
    }
   ],
   "source": [
    "%%timeit\n",
    "# NumPy Vectorized baby!!\n",
    "\n",
    "df['normalized_status'] = np.where(\n",
    "    df['Current Status'].values == '- None -',\n",
    "    df['Status at Time of Lead'].values, \n",
    "    df['Current Status'].values\n",
    ")"
   ]
  },
  {
   "cell_type": "code",
   "execution_count": 29,
   "metadata": {},
   "outputs": [
    {
     "name": "stdout",
     "output_type": "stream",
     "text": [
      "`np.where` w/ numpy vectorization is 578.8x faster than `.apply`\n"
     ]
    }
   ],
   "source": [
    "print(f\"`np.where` w/ numpy vectorization is {round((5.03 * 1000) / 8.69, 1)}x faster than `.apply`\")"
   ]
  },
  {
   "cell_type": "code",
   "execution_count": null,
   "metadata": {},
   "outputs": [],
   "source": [
    "# %%timeit\n",
    "# test = df.apply(works_but_slow, axis=1, raw=True)  # There is a significant speed improvement from using raw=True \n",
    "# # with pd.DataFrame.apply versus without. This option feeds NumPy arrays to the custom function instead of pd.Series objects.\n",
    "# # https://stackoverflow.com/questions/52673285/performance-of-pandas-apply-vs-np-vectorize-to-create-new-column-from-existing-c"
   ]
  },
  {
   "cell_type": "markdown",
   "metadata": {},
   "source": [
    "# What about `numpy.vectorize()`?\n",
    "\n",
    "This is a function that will take a Python function and turn it into a NumPy ufunc, so it can handle vectorized approaches. It _vectorizes_ your function, not necessarily how that function applies to your data. Big difference there.\n",
    "\n",
    "Resources:\n",
    " - https://docs.scipy.org/doc/numpy/reference/generated/numpy.vectorize.html\n",
    " - https://www.experfy.com/blog/why-you-should-forget-loops-and-embrace-vectorization-for-data-science\n"
   ]
  },
  {
   "cell_type": "code",
   "execution_count": 30,
   "metadata": {},
   "outputs": [],
   "source": [
    "# Here is our previous function that I tried to vectorize but couldn't due to the ValueError. \n",
    "def works_fast_maybe(col1, col2):\n",
    "    if col1 == '- None -':\n",
    "        return col2\n",
    "    else:\n",
    "        return col1"
   ]
  },
  {
   "cell_type": "code",
   "execution_count": 31,
   "metadata": {},
   "outputs": [],
   "source": [
    "# with the np.vectorize method --> returns a vectorized callable\n",
    "vectfunc = np.vectorize(works_fast_maybe) #otypes=[np.float],cache=False)"
   ]
  },
  {
   "cell_type": "code",
   "execution_count": 36,
   "metadata": {},
   "outputs": [
    {
     "name": "stdout",
     "output_type": "stream",
     "text": [
      "193 ms ± 5.6 ms per loop (mean ± std. dev. of 7 runs, 10 loops each)\n"
     ]
    }
   ],
   "source": [
    "%%timeit \n",
    "list(vectfunc(df['Status at Time of Lead'], df['Current Status']))"
   ]
  },
  {
   "cell_type": "code",
   "execution_count": null,
   "metadata": {},
   "outputs": [],
   "source": []
  },
  {
   "cell_type": "markdown",
   "metadata": {},
   "source": [
    "Some guy on Medium thought this was faster -- using index setting -- but it turns out it's actually not vectorizing"
   ]
  },
  {
   "cell_type": "code",
   "execution_count": 37,
   "metadata": {},
   "outputs": [],
   "source": [
    "def can_I_go_any_faster(status_at_time, current_status):\n",
    "    # this works fine if you're setting static values\n",
    "    df['test'] = 'test'# status_at_time\n",
    "    df.loc[status_at_time == '- None -', 'test'] = current_status  # <-- ValueError, indexes don't match!\n",
    "    df.loc[status_at_time != '- None -', 'test'] = status_at_time"
   ]
  },
  {
   "cell_type": "code",
   "execution_count": 38,
   "metadata": {},
   "outputs": [
    {
     "name": "stdout",
     "output_type": "stream",
     "text": [
      "54.8 ms ± 3.81 ms per loop (mean ± std. dev. of 7 runs, 10 loops each)\n"
     ]
    }
   ],
   "source": [
    "%%timeit\n",
    "test4 = can_I_go_any_faster(df['Status at Time of Lead'], df['Current Status'])"
   ]
  },
  {
   "cell_type": "code",
   "execution_count": 41,
   "metadata": {},
   "outputs": [
    {
     "data": {
      "text/html": [
       "<div>\n",
       "<style scoped>\n",
       "    .dataframe tbody tr th:only-of-type {\n",
       "        vertical-align: middle;\n",
       "    }\n",
       "\n",
       "    .dataframe tbody tr th {\n",
       "        vertical-align: top;\n",
       "    }\n",
       "\n",
       "    .dataframe thead th {\n",
       "        text-align: right;\n",
       "    }\n",
       "</style>\n",
       "<table border=\"1\" class=\"dataframe\">\n",
       "  <thead>\n",
       "    <tr style=\"text-align: right;\">\n",
       "      <th></th>\n",
       "      <th>Internal ID</th>\n",
       "      <th>ID</th>\n",
       "      <th>Category</th>\n",
       "      <th>Lead Source</th>\n",
       "      <th>Lead Source Category</th>\n",
       "      <th>Current Status</th>\n",
       "      <th>Status at Time of Lead</th>\n",
       "      <th>Original Record: Date Created</th>\n",
       "      <th>Date Created</th>\n",
       "      <th>Inactive</th>\n",
       "      <th>Specialty</th>\n",
       "      <th>Providers</th>\n",
       "      <th>duplicate_leads</th>\n",
       "      <th>bad_leads</th>\n",
       "      <th>normalized_status</th>\n",
       "      <th>test</th>\n",
       "    </tr>\n",
       "  </thead>\n",
       "  <tbody>\n",
       "    <tr>\n",
       "      <th>0</th>\n",
       "      <td>16</td>\n",
       "      <td>1966</td>\n",
       "      <td>Practice</td>\n",
       "      <td>Nonpaid : Email : Webinar : Efficiency Kiosk A...</td>\n",
       "      <td>- None -</td>\n",
       "      <td>CLIENT-Deactivated</td>\n",
       "      <td>- None -</td>\n",
       "      <td>2003-04-30 18:15:00</td>\n",
       "      <td>2015-08-14 15:18:00</td>\n",
       "      <td>No</td>\n",
       "      <td>Dermatology</td>\n",
       "      <td>0.0</td>\n",
       "      <td>False</td>\n",
       "      <td>True</td>\n",
       "      <td>CLIENT-Deactivated</td>\n",
       "      <td>CLIENT-Deactivated</td>\n",
       "    </tr>\n",
       "    <tr>\n",
       "      <th>1</th>\n",
       "      <td>16</td>\n",
       "      <td>6213</td>\n",
       "      <td>Practice</td>\n",
       "      <td>Nonpaid : Email : Webinar : Efficiency Kiosk A...</td>\n",
       "      <td>- None -</td>\n",
       "      <td>CLIENT-Deactivated</td>\n",
       "      <td>- None -</td>\n",
       "      <td>2003-04-30 18:15:00</td>\n",
       "      <td>2015-08-14 15:18:00</td>\n",
       "      <td>No</td>\n",
       "      <td>Dermatology</td>\n",
       "      <td>0.0</td>\n",
       "      <td>True</td>\n",
       "      <td>True</td>\n",
       "      <td>CLIENT-Deactivated</td>\n",
       "      <td>CLIENT-Deactivated</td>\n",
       "    </tr>\n",
       "  </tbody>\n",
       "</table>\n",
       "</div>"
      ],
      "text/plain": [
       "   Internal ID    ID  Category  \\\n",
       "0           16  1966  Practice   \n",
       "1           16  6213  Practice   \n",
       "\n",
       "                                         Lead Source Lead Source Category  \\\n",
       "0  Nonpaid : Email : Webinar : Efficiency Kiosk A...             - None -   \n",
       "1  Nonpaid : Email : Webinar : Efficiency Kiosk A...             - None -   \n",
       "\n",
       "       Current Status Status at Time of Lead Original Record: Date Created  \\\n",
       "0  CLIENT-Deactivated               - None -           2003-04-30 18:15:00   \n",
       "1  CLIENT-Deactivated               - None -           2003-04-30 18:15:00   \n",
       "\n",
       "         Date Created Inactive    Specialty  Providers  duplicate_leads  \\\n",
       "0 2015-08-14 15:18:00       No  Dermatology        0.0            False   \n",
       "1 2015-08-14 15:18:00       No  Dermatology        0.0             True   \n",
       "\n",
       "   bad_leads   normalized_status                test  \n",
       "0       True  CLIENT-Deactivated  CLIENT-Deactivated  \n",
       "1       True  CLIENT-Deactivated  CLIENT-Deactivated  "
      ]
     },
     "execution_count": 41,
     "metadata": {},
     "output_type": "execute_result"
    }
   ],
   "source": [
    "df.head(2)"
   ]
  },
  {
   "cell_type": "code",
   "execution_count": 42,
   "metadata": {},
   "outputs": [],
   "source": [
    "def can_I_go_any_faster2(status_at_time, current_status):\n",
    "    # this works fine if you're setting static values\n",
    "    df['test'] = 'test'# status_at_time\n",
    "    df.loc[status_at_time == '- None -', 'test'] = 'statys1_isNone' \n",
    "    df.loc[status_at_time != '- None -', 'test'] = 'statys2_notNone'"
   ]
  },
  {
   "cell_type": "code",
   "execution_count": 43,
   "metadata": {},
   "outputs": [
    {
     "name": "stdout",
     "output_type": "stream",
     "text": [
      "45.3 ms ± 3.51 ms per loop (mean ± std. dev. of 7 runs, 10 loops each)\n"
     ]
    }
   ],
   "source": [
    "%%timeit\n",
    "test5 = can_I_go_any_faster2(df['Status at Time of Lead'], df['Current Status'])"
   ]
  },
  {
   "cell_type": "markdown",
   "metadata": {
    "slideshow": {
     "slide_type": "slide"
    }
   },
   "source": [
    "# Multiple conditions"
   ]
  },
  {
   "cell_type": "markdown",
   "metadata": {
    "slideshow": {
     "slide_type": "slide"
    }
   },
   "source": [
    "### lead_category"
   ]
  },
  {
   "cell_type": "code",
   "execution_count": 46,
   "metadata": {},
   "outputs": [],
   "source": [
    "list1 = ['LEAD-3 Flame No Contact', 'LEAD-Campaign', 'LEAD-Claim', 'LEAD-Contact Program', \n",
    "         'LEAD-General Pool', 'LEAD-No Contact', 'LEAD-Nurture', 'LEAD-Unqualified', 'PROSPECT-LOST']\n",
    "\n",
    "list2 = ['- None -', 'CLIENT-Closed-Sold', 'CLIENT-Handoff', 'CLIENT-Implementation', 'CLIENT-Implementation (EMR)',\n",
    "         'CLIENT-Live', 'CLIENT-Partner', 'CLIENT-Referring Consultant', 'CLIENT-Transferred', 'LEAD-Engaged', \n",
    "         'LEAD-Long-Term Opportunity', 'PROSPECT-CURRENT', 'PROSPECT-LONG TERM', 'PROSPECT-NO DECISION']\n",
    "\n",
    "# apply version\n",
    "def lead_category(row):\n",
    "    if row['Original Record: Date Created'] == row['Date Created']:\n",
    "        return 'New Lead'\n",
    "    elif row['normalized_status'].startswith('CLI'):\n",
    "        return 'Client Lead'\n",
    "    elif row['normalized_status'] in list1:\n",
    "        return 'MTouch Lead'\n",
    "    elif row['normalized_status'] in list2:\n",
    "        return 'EMTouch Lead'\n",
    "    return 'NA'"
   ]
  },
  {
   "cell_type": "code",
   "execution_count": 47,
   "metadata": {},
   "outputs": [
    {
     "name": "stdout",
     "output_type": "stream",
     "text": [
      "4.82 s ± 125 ms per loop (mean ± std. dev. of 7 runs, 1 loop each)\n"
     ]
    }
   ],
   "source": [
    "%%timeit\n",
    "df['lead_category0'] = df.apply(lead_category, axis=1)"
   ]
  },
  {
   "cell_type": "markdown",
   "metadata": {},
   "source": [
    "You can call a `np.where` for every condition, and it will run fine. But it gets a little hard to read after a while."
   ]
  },
  {
   "cell_type": "code",
   "execution_count": 48,
   "metadata": {},
   "outputs": [
    {
     "name": "stdout",
     "output_type": "stream",
     "text": [
      "187 ms ± 12.1 ms per loop (mean ± std. dev. of 7 runs, 10 loops each)\n"
     ]
    }
   ],
   "source": [
    "%%timeit\n",
    "df['lead_category'] = \\\n",
    "    np.where(df['Original Record: Date Created'].values == df['Date Created'].values, 'New Lead', \n",
    "            np.where(df['normalized_status'].str.startswith('CLI').values, 'Client Lead', \n",
    "                    np.where(df['normalized_status'].isin(list1).values, 'MTouch Lead', \n",
    "                            np.where(df['normalized_status'].isin(list2).values, 'EMTouch Lead', \n",
    "                                     'NA') \n",
    "                                  )\n",
    "                         )\n",
    "                )"
   ]
  },
  {
   "cell_type": "markdown",
   "metadata": {},
   "source": [
    "# What Is `numpy.select()`\n",
    "Cleaner (and even faster!) and doing multiple nested `np.where` calls for each conditions.\n",
    "Order of operations matter!\n",
    "\n",
    "[Documentation](https://docs.scipy.org/doc/numpy/reference/generated/numpy.select.html)"
   ]
  },
  {
   "cell_type": "code",
   "execution_count": 49,
   "metadata": {},
   "outputs": [
    {
     "name": "stdout",
     "output_type": "stream",
     "text": [
      "171 ms ± 11.6 ms per loop (mean ± std. dev. of 7 runs, 10 loops each)\n"
     ]
    }
   ],
   "source": [
    "%%timeit\n",
    "conditions = [\n",
    "    df['Original Record: Date Created'].values == df['Date Created'].values,\n",
    "    df['normalized_status'].str.startswith('CLI').values,\n",
    "    df['normalized_status'].isin(list1).values,\n",
    "    df['normalized_status'].isin(list2).values\n",
    "]\n",
    "\n",
    "choices = [\n",
    "    'New Lead', \n",
    "    'Client Lead', \n",
    "    'MTouch Lead',\n",
    "    'EMTouch Lead'\n",
    "]\n",
    "\n",
    "\n",
    "df['lead_category1'] = np.select(conditions, choices, default='NA')  # Order of operations matter!"
   ]
  },
  {
   "cell_type": "code",
   "execution_count": 50,
   "metadata": {},
   "outputs": [
    {
     "data": {
      "text/plain": [
       "True"
      ]
     },
     "execution_count": 50,
     "metadata": {},
     "output_type": "execute_result"
    }
   ],
   "source": [
    "# Their output logic is the same\n",
    "(df.lead_category == df.lead_category1).all()"
   ]
  },
  {
   "cell_type": "code",
   "execution_count": 53,
   "metadata": {},
   "outputs": [
    {
     "name": "stdout",
     "output_type": "stream",
     "text": [
      "`np.select` w/ numpy vectorization is 25.78x faster than nested .apply()\n"
     ]
    }
   ],
   "source": [
    "print(f\"`np.select` w/ numpy vectorization is {round((4.82 * 1000) / 187, 2)}x faster than nested .apply()\")"
   ]
  },
  {
   "cell_type": "code",
   "execution_count": 54,
   "metadata": {},
   "outputs": [
    {
     "name": "stdout",
     "output_type": "stream",
     "text": [
      "`np.select` is 1.09 faster than nested `np.where`\n"
     ]
    }
   ],
   "source": [
    "print(f\"`np.select` is {round(187 / 171, 2)} faster than nested `np.where`\")"
   ]
  },
  {
   "cell_type": "markdown",
   "metadata": {},
   "source": [
    "## What about nested multiple conditionals? Can we vectorize that?\n",
    "Yes!"
   ]
  },
  {
   "cell_type": "code",
   "execution_count": 55,
   "metadata": {},
   "outputs": [],
   "source": [
    "# This is something you might think you can't vectorize, but you sure can!\n",
    "def sub_conditional(row):\n",
    "    if row['Inactive'] == 'No':\n",
    "        if row['Providers'] == 0:\n",
    "            return 'active_no_providers'\n",
    "        elif row['Providers'] < 5:\n",
    "            return 'active_small'\n",
    "        else:\n",
    "            return 'active_normal'\n",
    "    elif row['duplicate_leads']:\n",
    "        return 'is_dup'\n",
    "    else:\n",
    "        if row['bad_leads']:\n",
    "            return 'active_bad'\n",
    "        else:\n",
    "            return 'active_good'"
   ]
  },
  {
   "cell_type": "code",
   "execution_count": 56,
   "metadata": {},
   "outputs": [
    {
     "name": "stdout",
     "output_type": "stream",
     "text": [
      "4.66 s ± 216 ms per loop (mean ± std. dev. of 7 runs, 1 loop each)\n"
     ]
    }
   ],
   "source": [
    "%%timeit\n",
    "# Let's time how long it takes to apply a nested multiple condition func\n",
    "df['lead_type'] = df.apply(sub_conditional, axis=1)"
   ]
  },
  {
   "cell_type": "code",
   "execution_count": 57,
   "metadata": {},
   "outputs": [
    {
     "name": "stdout",
     "output_type": "stream",
     "text": [
      "120 ms ± 4.93 ms per loop (mean ± std. dev. of 7 runs, 10 loops each)\n"
     ]
    }
   ],
   "source": [
    "%%timeit\n",
    "\n",
    "# With np.select, could do .values here for additional speed, but left out to avoid too much text\n",
    "conditions = [\n",
    "    ((df['Inactive'] == 'No') & (df['Providers'] == 0)),\n",
    "    ((df['Inactive'] == 'No') & (df['Providers'] < 5)),\n",
    "    df['Inactive'] == 'No',\n",
    "    df['duplicate_leads'],  # <-- you can also just evaluate boolean arrays\n",
    "    df['bad_leads'],\n",
    "]\n",
    "\n",
    "choices = [\n",
    "    'active_no_providers',\n",
    "    'active_small',\n",
    "    'active_normal',\n",
    "    'is_dup',\n",
    "    'active_bad',\n",
    "]\n",
    "\n",
    "df['lead_type_vec'] = np.select(conditions, choices, default='NA')"
   ]
  },
  {
   "cell_type": "code",
   "execution_count": null,
   "metadata": {},
   "outputs": [],
   "source": [
    "mask = (\n",
    "    ((df['Inactive'] == 'No') & (df['Providers'] == 0))\n",
    "    & ((df['Inactive'] == 'No') & (df['Providers'] < 5))\n",
    "    & (df['Inactive'] == 'No')\n",
    "    & (df['duplicate_leads'])  # <-- you can also just evaluate boolean arrays\n",
    "    & df['bad_leads']\n",
    ")\n",
    "\n",
    "\n",
    "\n"
   ]
  },
  {
   "cell_type": "code",
   "execution_count": 58,
   "metadata": {},
   "outputs": [
    {
     "name": "stdout",
     "output_type": "stream",
     "text": [
      "`np.select` is 38.83 faster than nested .apply()\n"
     ]
    }
   ],
   "source": [
    "print(f\"`np.select` is {round((4.66* 1000) / 120, 2)} faster than nested .apply()\")"
   ]
  },
  {
   "cell_type": "code",
   "execution_count": 33,
   "metadata": {},
   "outputs": [
    {
     "name": "stderr",
     "output_type": "stream",
     "text": [
      "/home/nathancheever/miniconda3/lib/python3.7/site-packages/ipykernel_launcher.py:4: RuntimeWarning: invalid value encountered in less\n",
      "  after removing the cwd from sys.path.\n"
     ]
    },
    {
     "name": "stdout",
     "output_type": "stream",
     "text": [
      "35.8 ms ± 257 µs per loop (mean ± std. dev. of 7 runs, 10 loops each)\n"
     ]
    }
   ],
   "source": [
    "%%timeit\n",
    "\n",
    "# With np.select\n",
    "conditions = [\n",
    "    ((df['Inactive'].values == 'No') & (df['Providers'].values == 0)),\n",
    "    ((df['Inactive'].values == 'No') & (df['Providers'].values < 5)),\n",
    "    df['Inactive'].values == 'No',\n",
    "    df['duplicate_leads'].values,  # <-- you can also just evaluate boolean arrays\n",
    "    df['bad_leads'].values,\n",
    "]\n",
    "\n",
    "choices = [\n",
    "    'active_no_providers',\n",
    "    'active_small',\n",
    "    'active_normal',\n",
    "    'is_dup',\n",
    "    'active_bad',\n",
    "]\n",
    "\n",
    "df['lead_type_vec'] = np.select(conditions, choices, default='NA')"
   ]
  },
  {
   "cell_type": "code",
   "execution_count": 59,
   "metadata": {},
   "outputs": [
    {
     "name": "stdout",
     "output_type": "stream",
     "text": [
      "`np.select` w/ vectorization is 130.17 faster than nested .apply()\n"
     ]
    }
   ],
   "source": [
    "print(f\"`np.select` w/ vectorization is {round((4.66 * 1000) / 35.8, 2)} faster than nested .apply()\")"
   ]
  },
  {
   "cell_type": "markdown",
   "metadata": {},
   "source": [
    "# What about more complicated things?\n",
    "Of course this is just a tiny sample of things you might encounter, but I thought they could be useful to see how vectorization can still apply even with otherwise difficult cases."
   ]
  },
  {
   "cell_type": "markdown",
   "metadata": {},
   "source": [
    "#### Strings"
   ]
  },
  {
   "cell_type": "code",
   "execution_count": 35,
   "metadata": {},
   "outputs": [
    {
     "data": {
      "text/html": [
       "<div>\n",
       "<style scoped>\n",
       "    .dataframe tbody tr th:only-of-type {\n",
       "        vertical-align: middle;\n",
       "    }\n",
       "\n",
       "    .dataframe tbody tr th {\n",
       "        vertical-align: top;\n",
       "    }\n",
       "\n",
       "    .dataframe thead th {\n",
       "        text-align: right;\n",
       "    }\n",
       "</style>\n",
       "<table border=\"1\" class=\"dataframe\">\n",
       "  <thead>\n",
       "    <tr style=\"text-align: right;\">\n",
       "      <th></th>\n",
       "      <th>Internal ID</th>\n",
       "      <th>ID</th>\n",
       "      <th>Category</th>\n",
       "      <th>Lead Source</th>\n",
       "      <th>Lead Source Category</th>\n",
       "      <th>Current Status</th>\n",
       "      <th>Status at Time of Lead</th>\n",
       "      <th>...</th>\n",
       "      <th>normalized_status</th>\n",
       "      <th>test</th>\n",
       "      <th>lead_category0</th>\n",
       "      <th>lead_category</th>\n",
       "      <th>lead_category1</th>\n",
       "      <th>lead_type</th>\n",
       "      <th>lead_type_vec</th>\n",
       "    </tr>\n",
       "  </thead>\n",
       "  <tbody>\n",
       "    <tr>\n",
       "      <th>0</th>\n",
       "      <td>16</td>\n",
       "      <td>1966</td>\n",
       "      <td>Practice</td>\n",
       "      <td>Nonpaid : Email : Webinar : Efficiency Kiosk A...</td>\n",
       "      <td>- None -</td>\n",
       "      <td>CLIENT-Deactivated</td>\n",
       "      <td>- None -</td>\n",
       "      <td>...</td>\n",
       "      <td>CLIENT-Deactivated</td>\n",
       "      <td>statys1_isNone</td>\n",
       "      <td>Client Lead</td>\n",
       "      <td>Client Lead</td>\n",
       "      <td>Client Lead</td>\n",
       "      <td>active_no_providers</td>\n",
       "      <td>active_no_providers</td>\n",
       "    </tr>\n",
       "    <tr>\n",
       "      <th>1</th>\n",
       "      <td>16</td>\n",
       "      <td>6213</td>\n",
       "      <td>Practice</td>\n",
       "      <td>Nonpaid : Email : Webinar : Efficiency Kiosk A...</td>\n",
       "      <td>- None -</td>\n",
       "      <td>CLIENT-Deactivated</td>\n",
       "      <td>- None -</td>\n",
       "      <td>...</td>\n",
       "      <td>CLIENT-Deactivated</td>\n",
       "      <td>statys1_isNone</td>\n",
       "      <td>Client Lead</td>\n",
       "      <td>Client Lead</td>\n",
       "      <td>Client Lead</td>\n",
       "      <td>active_no_providers</td>\n",
       "      <td>active_no_providers</td>\n",
       "    </tr>\n",
       "  </tbody>\n",
       "</table>\n",
       "<p>2 rows × 21 columns</p>\n",
       "</div>"
      ],
      "text/plain": [
       "   Internal ID    ID  Category  \\\n",
       "0           16  1966  Practice   \n",
       "1           16  6213  Practice   \n",
       "\n",
       "                                         Lead Source Lead Source Category  \\\n",
       "0  Nonpaid : Email : Webinar : Efficiency Kiosk A...             - None -   \n",
       "1  Nonpaid : Email : Webinar : Efficiency Kiosk A...             - None -   \n",
       "\n",
       "       Current Status Status at Time of Lead  ...   normalized_status  \\\n",
       "0  CLIENT-Deactivated               - None -  ...  CLIENT-Deactivated   \n",
       "1  CLIENT-Deactivated               - None -  ...  CLIENT-Deactivated   \n",
       "\n",
       "             test lead_category0 lead_category  lead_category1  \\\n",
       "0  statys1_isNone    Client Lead   Client Lead     Client Lead   \n",
       "1  statys1_isNone    Client Lead   Client Lead     Client Lead   \n",
       "\n",
       "             lead_type        lead_type_vec  \n",
       "0  active_no_providers  active_no_providers  \n",
       "1  active_no_providers  active_no_providers  \n",
       "\n",
       "[2 rows x 21 columns]"
      ]
     },
     "execution_count": 35,
     "metadata": {},
     "output_type": "execute_result"
    }
   ],
   "source": [
    "df.head(2)"
   ]
  },
  {
   "cell_type": "code",
   "execution_count": 36,
   "metadata": {},
   "outputs": [],
   "source": [
    "# Doing a regex search to find string patterns\n",
    "\n",
    "def find_paid_nonpaid(s):\n",
    "    if re.search(r'non.*?paid', s, re.I):\n",
    "        return 'non-paid'\n",
    "    elif re.search(r'Buyerzone|^paid\\s+', s, re.I):\n",
    "        return 'paid'\n",
    "    else:\n",
    "        return 'unknown'"
   ]
  },
  {
   "cell_type": "code",
   "execution_count": 72,
   "metadata": {},
   "outputs": [
    {
     "name": "stdout",
     "output_type": "stream",
     "text": [
      "480 ms ± 12.4 ms per loop (mean ± std. dev. of 7 runs, 1 loop each)\n"
     ]
    }
   ],
   "source": [
    "%%timeit\n",
    "# our old friend .apply()\n",
    "df['lead_source_paid_unpaid'] = df['Lead Source'].apply(find_paid_nonpaid)"
   ]
  },
  {
   "cell_type": "markdown",
   "metadata": {},
   "source": [
    "How does `np.vectorize()` do for strings?"
   ]
  },
  {
   "cell_type": "code",
   "execution_count": 74,
   "metadata": {},
   "outputs": [
    {
     "name": "stdout",
     "output_type": "stream",
     "text": [
      "535 ms ± 9.08 ms per loop (mean ± std. dev. of 7 runs, 1 loop each)\n"
     ]
    }
   ],
   "source": [
    "%%timeit\n",
    "\n",
    "vect_str = np.vectorize(find_paid_nonpaid)\n",
    "\n",
    "df['lead_source_paid_unpaid1'] = vect_str(df['Lead Source'])"
   ]
  },
  {
   "cell_type": "code",
   "execution_count": 75,
   "metadata": {},
   "outputs": [
    {
     "name": "stdout",
     "output_type": "stream",
     "text": [
      "524 ms ± 16.3 ms per loop (mean ± std. dev. of 7 runs, 1 loop each)\n"
     ]
    }
   ],
   "source": [
    "%%timeit\n",
    "# How does a list comprehension do?\n",
    "df['lead_source_paid_unpaid2'] = ['non-paid' if re.search(r'non.*?paid', s, re.I) \n",
    "                                  else 'paid' if re.search(r'Buyerzone|^paid\\s+', s, re.I) \n",
    "                                  else 'unknown' for s in df['Lead Source']]"
   ]
  },
  {
   "cell_type": "markdown",
   "metadata": {},
   "source": [
    "pandas provides the `.str()` methods for working with strings."
   ]
  },
  {
   "cell_type": "code",
   "execution_count": 76,
   "metadata": {},
   "outputs": [
    {
     "name": "stdout",
     "output_type": "stream",
     "text": [
      "493 ms ± 13.3 ms per loop (mean ± std. dev. of 7 runs, 1 loop each)\n"
     ]
    }
   ],
   "source": [
    "%%timeit\n",
    "# How does this compare?\n",
    "conditions = [\n",
    "    df['Lead Source'].str.contains(r'non.*?paid', case=False, na=False),\n",
    "    df['Lead Source'].str.contains(r'Buyerzone|^paid\\s+', case=False, na=False),\n",
    "]\n",
    "\n",
    "choices = [\n",
    "    'non-paid',\n",
    "    'paid'\n",
    "]\n",
    "\n",
    "df['lead_source_paid_unpaid1'] = np.select(conditions, choices, default='unknown')"
   ]
  },
  {
   "cell_type": "markdown",
   "metadata": {},
   "source": [
    "*what about not searching strings?*"
   ]
  },
  {
   "cell_type": "code",
   "execution_count": 40,
   "metadata": {},
   "outputs": [
    {
     "name": "stdout",
     "output_type": "stream",
     "text": [
      "58 ms ± 2.12 ms per loop (mean ± std. dev. of 7 runs, 10 loops each)\n"
     ]
    }
   ],
   "source": [
    "%%timeit\n",
    "df['lowerls'] = df['Lead Source'].apply(lambda x: x.lower())"
   ]
  },
  {
   "cell_type": "code",
   "execution_count": 41,
   "metadata": {},
   "outputs": [
    {
     "name": "stdout",
     "output_type": "stream",
     "text": [
      "69.9 ms ± 1.78 ms per loop (mean ± std. dev. of 7 runs, 10 loops each)\n"
     ]
    }
   ],
   "source": [
    "%%timeit\n",
    "df['lowerls1'] = df['Lead Source'].str.lower()"
   ]
  },
  {
   "cell_type": "markdown",
   "metadata": {},
   "source": [
    "#### Dictionary lookups"
   ]
  },
  {
   "cell_type": "code",
   "execution_count": 77,
   "metadata": {},
   "outputs": [],
   "source": [
    "channel_dict = {\n",
    "    'Billing Service': 'BS', 'Consultant': 'PD', 'Educational': 'PD', \n",
    "    'Enterprise': 'PD', 'Hospital': 'PD', 'IPA': 'PD', 'MBS': 'RCM', \n",
    "    'MSO': 'PD', 'Medical practice': 'PD', 'Other': 'PD', 'Partner': 'PD',\n",
    "    'PhyBillers': 'BS', 'Practice': 'PD', 'Purchasing Group': 'PD',\n",
    "    'Reseller': 'BS', 'Vendor': 'PD', '_Other': 'PD', 'RCM': 'RCM'\n",
    "}\n",
    "\n",
    "def a_dict_lookup(row):\n",
    "    if row['Providers'] > 7:\n",
    "        return 'Upmarket'\n",
    "    else:\n",
    "        channel = channel_dict.get(row['Category'])\n",
    "        return channel"
   ]
  },
  {
   "cell_type": "code",
   "execution_count": 78,
   "metadata": {},
   "outputs": [
    {
     "name": "stdout",
     "output_type": "stream",
     "text": [
      "5.15 s ± 58.4 ms per loop (mean ± std. dev. of 7 runs, 1 loop each)\n"
     ]
    }
   ],
   "source": [
    "%%timeit\n",
    "df['dict_lookup'] = df.apply(a_dict_lookup, axis=1)"
   ]
  },
  {
   "cell_type": "code",
   "execution_count": 79,
   "metadata": {},
   "outputs": [
    {
     "name": "stderr",
     "output_type": "stream",
     "text": [
      "/home/nathancheever/miniconda3/lib/python3.7/site-packages/ipykernel_launcher.py:2: RuntimeWarning: invalid value encountered in greater\n",
      "  \n"
     ]
    },
    {
     "name": "stdout",
     "output_type": "stream",
     "text": [
      "17.5 ms ± 144 µs per loop (mean ± std. dev. of 7 runs, 10 loops each)\n"
     ]
    }
   ],
   "source": [
    "%%timeit\n",
    "df['dict_lookup1'] = np.where(\n",
    "    df['Providers'].values > 7, \n",
    "    'Upmarket',\n",
    "    df['Category'].map(channel_dict)\n",
    ")"
   ]
  },
  {
   "cell_type": "code",
   "execution_count": 81,
   "metadata": {},
   "outputs": [
    {
     "data": {
      "text/plain": [
       "294.2857142857143"
      ]
     },
     "execution_count": 81,
     "metadata": {},
     "output_type": "execute_result"
    }
   ],
   "source": [
    "(5.15 * 1000) / 17.5"
   ]
  },
  {
   "cell_type": "code",
   "execution_count": 80,
   "metadata": {},
   "outputs": [
    {
     "name": "stdout",
     "output_type": "stream",
     "text": [
      "19.6 ms ± 452 µs per loop (mean ± std. dev. of 7 runs, 100 loops each)\n"
     ]
    }
   ],
   "source": [
    "%%timeit\n",
    "channel_values = df['Category'].map(channel_dict)\n",
    "df['dict_lookup1'] = np.where(\n",
    "    df['Providers'] > 7, \n",
    "    'Upmarket',\n",
    "    channel_values\n",
    ")"
   ]
  },
  {
   "cell_type": "code",
   "execution_count": 46,
   "metadata": {},
   "outputs": [
    {
     "name": "stdout",
     "output_type": "stream",
     "text": [
      "37.7 ms ± 730 µs per loop (mean ± std. dev. of 7 runs, 10 loops each)\n"
     ]
    }
   ],
   "source": [
    "%%timeit\n",
    "# Using np.vectorize to vectorize a dictionary .get() method works, but is slower than .map()\n",
    "channel_values = np.vectorize(channel_dict.get)(df['Category'].values)\n",
    "df['dict_lookup2'] = np.where(\n",
    "    df['Providers'] > 7, \n",
    "    'Upmarket',\n",
    "    channel_values\n",
    ")"
   ]
  },
  {
   "cell_type": "code",
   "execution_count": 47,
   "metadata": {},
   "outputs": [
    {
     "name": "stdout",
     "output_type": "stream",
     "text": [
      "True\n",
      "True\n"
     ]
    }
   ],
   "source": [
    "print((df['dict_lookup'] == df['dict_lookup1']).all())\n",
    "print((df['dict_lookup'] == df['dict_lookup2']).all())"
   ]
  },
  {
   "cell_type": "markdown",
   "metadata": {},
   "source": [
    "#### Dates"
   ]
  },
  {
   "cell_type": "code",
   "execution_count": 48,
   "metadata": {},
   "outputs": [
    {
     "data": {
      "text/html": [
       "<div>\n",
       "<style scoped>\n",
       "    .dataframe tbody tr th:only-of-type {\n",
       "        vertical-align: middle;\n",
       "    }\n",
       "\n",
       "    .dataframe tbody tr th {\n",
       "        vertical-align: top;\n",
       "    }\n",
       "\n",
       "    .dataframe thead th {\n",
       "        text-align: right;\n",
       "    }\n",
       "</style>\n",
       "<table border=\"1\" class=\"dataframe\">\n",
       "  <thead>\n",
       "    <tr style=\"text-align: right;\">\n",
       "      <th></th>\n",
       "      <th>Internal ID</th>\n",
       "      <th>ID</th>\n",
       "      <th>Category</th>\n",
       "      <th>Lead Source</th>\n",
       "      <th>Lead Source Category</th>\n",
       "      <th>Current Status</th>\n",
       "      <th>Status at Time of Lead</th>\n",
       "      <th>...</th>\n",
       "      <th>lead_source_paid_unpaid2</th>\n",
       "      <th>lead_source_paid_unpaid1</th>\n",
       "      <th>lowerls</th>\n",
       "      <th>lowerls1</th>\n",
       "      <th>dict_lookup</th>\n",
       "      <th>dict_lookup1</th>\n",
       "      <th>dict_lookup2</th>\n",
       "    </tr>\n",
       "  </thead>\n",
       "  <tbody>\n",
       "    <tr>\n",
       "      <th>0</th>\n",
       "      <td>16</td>\n",
       "      <td>1966</td>\n",
       "      <td>Practice</td>\n",
       "      <td>Nonpaid : Email : Webinar : Efficiency Kiosk A...</td>\n",
       "      <td>- None -</td>\n",
       "      <td>CLIENT-Deactivated</td>\n",
       "      <td>- None -</td>\n",
       "      <td>...</td>\n",
       "      <td>non-paid</td>\n",
       "      <td>non-paid</td>\n",
       "      <td>nonpaid : email : webinar : efficiency kiosk a...</td>\n",
       "      <td>nonpaid : email : webinar : efficiency kiosk a...</td>\n",
       "      <td>PD</td>\n",
       "      <td>PD</td>\n",
       "      <td>PD</td>\n",
       "    </tr>\n",
       "    <tr>\n",
       "      <th>1</th>\n",
       "      <td>16</td>\n",
       "      <td>6213</td>\n",
       "      <td>Practice</td>\n",
       "      <td>Nonpaid : Email : Webinar : Efficiency Kiosk A...</td>\n",
       "      <td>- None -</td>\n",
       "      <td>CLIENT-Deactivated</td>\n",
       "      <td>- None -</td>\n",
       "      <td>...</td>\n",
       "      <td>non-paid</td>\n",
       "      <td>non-paid</td>\n",
       "      <td>nonpaid : email : webinar : efficiency kiosk a...</td>\n",
       "      <td>nonpaid : email : webinar : efficiency kiosk a...</td>\n",
       "      <td>PD</td>\n",
       "      <td>PD</td>\n",
       "      <td>PD</td>\n",
       "    </tr>\n",
       "  </tbody>\n",
       "</table>\n",
       "<p>2 rows × 29 columns</p>\n",
       "</div>"
      ],
      "text/plain": [
       "   Internal ID    ID  Category  \\\n",
       "0           16  1966  Practice   \n",
       "1           16  6213  Practice   \n",
       "\n",
       "                                         Lead Source Lead Source Category  \\\n",
       "0  Nonpaid : Email : Webinar : Efficiency Kiosk A...             - None -   \n",
       "1  Nonpaid : Email : Webinar : Efficiency Kiosk A...             - None -   \n",
       "\n",
       "       Current Status Status at Time of Lead  ... lead_source_paid_unpaid2  \\\n",
       "0  CLIENT-Deactivated               - None -  ...                 non-paid   \n",
       "1  CLIENT-Deactivated               - None -  ...                 non-paid   \n",
       "\n",
       "  lead_source_paid_unpaid1                                            lowerls  \\\n",
       "0                 non-paid  nonpaid : email : webinar : efficiency kiosk a...   \n",
       "1                 non-paid  nonpaid : email : webinar : efficiency kiosk a...   \n",
       "\n",
       "                                            lowerls1  dict_lookup  \\\n",
       "0  nonpaid : email : webinar : efficiency kiosk a...           PD   \n",
       "1  nonpaid : email : webinar : efficiency kiosk a...           PD   \n",
       "\n",
       "   dict_lookup1  dict_lookup2  \n",
       "0            PD            PD  \n",
       "1            PD            PD  \n",
       "\n",
       "[2 rows x 29 columns]"
      ]
     },
     "execution_count": 48,
     "metadata": {},
     "output_type": "execute_result"
    }
   ],
   "source": [
    "df.head(2)"
   ]
  },
  {
   "cell_type": "code",
   "execution_count": 49,
   "metadata": {},
   "outputs": [],
   "source": [
    "# make a new column called 'Start Date' for dummy testing\n",
    "# ONly do a fraction so we have some NaN values\n",
    "df['Start Date'] = df['Date Created'].sample(frac=0.8)"
   ]
  },
  {
   "cell_type": "code",
   "execution_count": 50,
   "metadata": {},
   "outputs": [],
   "source": [
    "def weeks_to_complete(row) -> float:\n",
    "    \"\"\"Calculate the number of weeks between two dates\"\"\"\n",
    "    if pd.isnull(row['Start Date']):\n",
    "        return (row['Original Record: Date Created'] -  row['Date Created']).days / 7\n",
    "    else:\n",
    "        return (row['Date Created'] - row['Start Date']).days / 7"
   ]
  },
  {
   "cell_type": "code",
   "execution_count": 51,
   "metadata": {},
   "outputs": [
    {
     "name": "stdout",
     "output_type": "stream",
     "text": [
      "12.7 s ± 115 ms per loop (mean ± std. dev. of 7 runs, 1 loop each)\n"
     ]
    }
   ],
   "source": [
    "%%timeit\n",
    "wtc1 = df.apply(weeks_to_complete, axis=1)"
   ]
  },
  {
   "cell_type": "markdown",
   "metadata": {},
   "source": [
    "One approach to vectorization is to use pandas `.dt` datetime accessors. They have lots of goodies.."
   ]
  },
  {
   "cell_type": "code",
   "execution_count": 52,
   "metadata": {},
   "outputs": [
    {
     "name": "stdout",
     "output_type": "stream",
     "text": [
      "18.6 ms ± 250 µs per loop (mean ± std. dev. of 7 runs, 10 loops each)\n"
     ]
    }
   ],
   "source": [
    "%%timeit\n",
    "wtc2 = np.where(\n",
    "    df['Start Date'].isnull().values,\n",
    "    (df['Original Record: Date Created'].values - df['Date Created']).dt.days / 7,\n",
    "    (df['Date Created'].values - df['Start Date']).dt.days / 7\n",
    ")"
   ]
  },
  {
   "cell_type": "markdown",
   "metadata": {},
   "source": [
    "Another approach is to do ndarray type casting, converting our series into numpy timedelta arrays. This way is faster, but more verbose and kinda more code for basically the samething."
   ]
  },
  {
   "cell_type": "code",
   "execution_count": 53,
   "metadata": {},
   "outputs": [
    {
     "name": "stdout",
     "output_type": "stream",
     "text": [
      "7.91 ms ± 113 µs per loop (mean ± std. dev. of 7 runs, 100 loops each)\n"
     ]
    }
   ],
   "source": [
    "%%timeit\n",
    "wtc3 = np.where(\n",
    "    df['Start Date'].isnull().values,\n",
    "    ((df['Original Record: Date Created'].values - df['Date Created'].values).astype('timedelta64[D]') / np.timedelta64(1, 'D')) / 7,\n",
    "    ((df['Date Created'].values - df['Start Date'].values).astype('timedelta64[D]') / np.timedelta64(1, 'D')) / 7\n",
    ")"
   ]
  },
  {
   "cell_type": "code",
   "execution_count": 54,
   "metadata": {},
   "outputs": [
    {
     "data": {
      "text/plain": [
       "1605.5625790139063"
      ]
     },
     "execution_count": 54,
     "metadata": {},
     "output_type": "execute_result"
    }
   ],
   "source": [
    "# How much faster is our last way over .apply()?\n",
    "(12.7 * 1000) / 7.91"
   ]
  },
  {
   "cell_type": "markdown",
   "metadata": {},
   "source": [
    "#### Needing values on other rows for the logic\n",
    "This example comes from a task I had to recreate a function like this in Excel:\n",
    "```excel\n",
    "=IF(A2=A1, IF(L2-L1 < 5, 0, 1), 1))\n",
    "```\n",
    "Where the `A` column is for ids, and the `L` column is for dates."
   ]
  },
  {
   "cell_type": "code",
   "execution_count": 55,
   "metadata": {},
   "outputs": [],
   "source": [
    "def time_looper(df):\n",
    "    \"\"\" Using a plain Python for loop\"\"\"\n",
    "    output = []\n",
    "    for i, row in enumerate(range(0, len(df))):\n",
    "        if i > 0:\n",
    "            \n",
    "            # compare the current id to the row above\n",
    "            if df.iloc[i]['Internal ID'] == df.iloc[i-1]['Internal ID']:\n",
    "                \n",
    "                # compare the current date to the row above\n",
    "                if (df.iloc[i]['Date Created'] - df.iloc[i-1]['Original Record: Date Created']).days < 5:\n",
    "                    output.append(0)\n",
    "                else:\n",
    "                    output.append(1)\n",
    "            else:\n",
    "                output.append(1)\n",
    "        else:\n",
    "            output.append(np.nan)\n",
    "    return output"
   ]
  },
  {
   "cell_type": "code",
   "execution_count": 56,
   "metadata": {},
   "outputs": [],
   "source": [
    "def time_looper2(df):\n",
    "    \"\"\"Using pandas dataframe `.iterrows()` method for iterating over rows\"\"\"\n",
    "    output = []\n",
    "    for i, row in df.iterrows():\n",
    "        if i > 0:\n",
    "            if df.iloc[i]['Internal ID'] == df.iloc[i-1]['Internal ID']:\n",
    "                if (df.iloc[i]['Date Created'] - df.iloc[i-1]['Original Record: Date Created']).days < 5:\n",
    "                    output.append(0)\n",
    "                else:\n",
    "                    output.append(1)\n",
    "            else:\n",
    "                output.append(1)\n",
    "        else:\n",
    "            output.append(np.nan)\n",
    "    return output"
   ]
  },
  {
   "cell_type": "code",
   "execution_count": 57,
   "metadata": {},
   "outputs": [],
   "source": [
    "df.sort_values(['Internal ID', 'Date Created'], inplace=True)"
   ]
  },
  {
   "cell_type": "code",
   "execution_count": 58,
   "metadata": {},
   "outputs": [
    {
     "name": "stdout",
     "output_type": "stream",
     "text": [
      "CPU times: user 2min 1s, sys: 7.17 ms, total: 2min 1s\n",
      "Wall time: 2min 1s\n"
     ]
    }
   ],
   "source": [
    "%%time\n",
    "df['time_col_raw_for'] = time_looper(df)"
   ]
  },
  {
   "cell_type": "code",
   "execution_count": 59,
   "metadata": {},
   "outputs": [
    {
     "name": "stdout",
     "output_type": "stream",
     "text": [
      "CPU times: user 2min 19s, sys: 67.5 ms, total: 2min 19s\n",
      "Wall time: 2min 19s\n"
     ]
    }
   ],
   "source": [
    "%%time\n",
    "df['time_col_iterrows'] = time_looper2(df)"
   ]
  },
  {
   "cell_type": "markdown",
   "metadata": {},
   "source": [
    "Our approach to vectorizing this unfortunate situation was two-fold:\n",
    " 1. Using the pandas `.shift()` function, we moved previous values down so they're on the same axis as what we're comparing them to \n",
    " 2. `np.select()` for the vectorized conditional logic check\n",
    " "
   ]
  },
  {
   "cell_type": "code",
   "execution_count": 60,
   "metadata": {},
   "outputs": [
    {
     "name": "stdout",
     "output_type": "stream",
     "text": [
      "11.1 ms ± 49.3 µs per loop (mean ± std. dev. of 7 runs, 100 loops each)\n"
     ]
    }
   ],
   "source": [
    "%%timeit\n",
    "previous_id = df['Internal ID'].shift(1).fillna(0).astype(int)\n",
    "previous_date = df['Original Record: Date Created'].shift(1).fillna(pd.Timestamp('1900'))\n",
    "\n",
    "conditions = [\n",
    "    ((df['Internal ID'].values ==  previous_id) & \n",
    "     (df['Date Created'] - previous_date).astype('timedelta64[D]') < 5),\n",
    "    df['Internal ID'].values ==  previous_id\n",
    "]\n",
    "choices = [0, 1]\n",
    "df['time_col1'] = np.select(conditions, choices, default=1)"
   ]
  },
  {
   "cell_type": "code",
   "execution_count": 63,
   "metadata": {},
   "outputs": [
    {
     "data": {
      "text/plain": [
       "12522.522522522522"
      ]
     },
     "execution_count": 63,
     "metadata": {},
     "output_type": "execute_result"
    }
   ],
   "source": [
    "(((2 * 60) + 19) * 1000) / 11.1"
   ]
  },
  {
   "cell_type": "code",
   "execution_count": 64,
   "metadata": {},
   "outputs": [
    {
     "data": {
      "text/plain": [
       "False"
      ]
     },
     "execution_count": 64,
     "metadata": {},
     "output_type": "execute_result"
    }
   ],
   "source": [
    "(df['time_col1'] == df['time_col_iterrows']).all()"
   ]
  },
  {
   "cell_type": "markdown",
   "metadata": {},
   "source": [
    "# Other alternatives"
   ]
  },
  {
   "cell_type": "markdown",
   "metadata": {},
   "source": [
    "## A _parallel_ apply func\n",
    "Source: https://towardsdatascience.com/make-your-own-super-pandas-using-multiproc-1c04f41944a1"
   ]
  },
  {
   "cell_type": "code",
   "execution_count": 65,
   "metadata": {},
   "outputs": [],
   "source": [
    "from multiprocessing import Pool"
   ]
  },
  {
   "cell_type": "code",
   "execution_count": 66,
   "metadata": {},
   "outputs": [],
   "source": [
    "def p_apply(df, func, cores=4):\n",
    "    \"\"\"Pass in your dataframe and the func to apply to it\"\"\"\n",
    "    df_split = np.array_split(df, cores)\n",
    "    pool = Pool(n_cores)\n",
    "    df = pd.concat(pool.map(func, df_split))\n",
    "    pool.close()\n",
    "    pool.join()\n",
    "    return df"
   ]
  },
  {
   "cell_type": "code",
   "execution_count": 67,
   "metadata": {},
   "outputs": [],
   "source": [
    "# df = p_apply(df, func=some_big_function)"
   ]
  },
  {
   "cell_type": "markdown",
   "metadata": {},
   "source": [
    "## Dask\n",
    "https://docs.dask.org"
   ]
  },
  {
   "cell_type": "code",
   "execution_count": null,
   "metadata": {},
   "outputs": [],
   "source": []
  }
 ],
 "metadata": {
  "kernelspec": {
   "display_name": "Python 3 (ipykernel)",
   "language": "python",
   "name": "python3"
  },
  "language_info": {
   "codemirror_mode": {
    "name": "ipython",
    "version": 3
   },
   "file_extension": ".py",
   "mimetype": "text/x-python",
   "name": "python",
   "nbconvert_exporter": "python",
   "pygments_lexer": "ipython3",
   "version": "3.10.5"
  },
  "toc-autonumbering": false
 },
 "nbformat": 4,
 "nbformat_minor": 4
}
