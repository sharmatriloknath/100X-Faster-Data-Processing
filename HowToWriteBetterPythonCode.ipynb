{
 "cells": [
  {
   "cell_type": "code",
   "execution_count": 1,
   "metadata": {
    "collapsed": true,
    "slideshow": {
     "slide_type": "skip"
    }
   },
   "outputs": [],
   "source": [
    "import math\n",
    "import re\n",
    "import dis\n",
    "import sys"
   ]
  },
  {
   "cell_type": "code",
   "execution_count": 2,
   "metadata": {
    "collapsed": true,
    "slideshow": {
     "slide_type": "fragment"
    }
   },
   "outputs": [],
   "source": [
    "def clean_transcript(text):\n",
    "    \"\"\"Function to remove ads, non-ascii characters, any remaining HTML tags\n",
    "    and crowd reactions from debate text.\n",
    "    \n",
    "    Args: \n",
    "        text: str, debate string\n",
    "    Returns: \n",
    "        text: str, cleaned text\n",
    "    \"\"\"\n",
    "    text = re.sub(r'<.*?>', ' ', text)          # any remaining html\n",
    "    text = re.sub(r'[^\\x00-\\x7F]+', ' ', text)  # non-ascii characters\n",
    "    text = re.sub(r'\\[.*?\\]', ' ', text)        # crowd reactions\n",
    "    return text"
   ]
  },
  {
   "cell_type": "code",
   "execution_count": 3,
   "metadata": {
    "scrolled": false,
    "slideshow": {
     "slide_type": "subslide"
    }
   },
   "outputs": [
    {
     "name": "stdout",
     "output_type": "stream",
     "text": [
      " 10           0 LOAD_GLOBAL              0 (re)\n",
      "              2 LOAD_ATTR                1 (sub)\n",
      "              4 LOAD_CONST               1 ('<.*?>')\n",
      "              6 LOAD_CONST               2 (' ')\n",
      "              8 LOAD_FAST                0 (text)\n",
      "             10 CALL_FUNCTION            3\n",
      "             12 STORE_FAST               0 (text)\n",
      "\n",
      " 11          14 LOAD_GLOBAL              0 (re)\n",
      "             16 LOAD_ATTR                1 (sub)\n",
      "             18 LOAD_CONST               3 ('[^\\\\x00-\\\\x7F]+')\n",
      "             20 LOAD_CONST               2 (' ')\n",
      "             22 LOAD_FAST                0 (text)\n",
      "             24 CALL_FUNCTION            3\n",
      "             26 STORE_FAST               0 (text)\n",
      "\n",
      " 12          28 LOAD_GLOBAL              0 (re)\n",
      "             30 LOAD_ATTR                1 (sub)\n",
      "             32 LOAD_CONST               4 ('\\\\[.*?\\\\]')\n",
      "             34 LOAD_CONST               2 (' ')\n",
      "             36 LOAD_FAST                0 (text)\n",
      "             38 CALL_FUNCTION            3\n",
      "             40 STORE_FAST               0 (text)\n",
      "\n",
      " 13          42 LOAD_FAST                0 (text)\n",
      "             44 RETURN_VALUE\n"
     ]
    }
   ],
   "source": [
    "dis.dis(clean_transcript)"
   ]
  },
  {
   "cell_type": "markdown",
   "metadata": {},
   "source": [
    "**What below function is doing**"
   ]
  },
  {
   "cell_type": "code",
   "execution_count": 4,
   "metadata": {
    "collapsed": true,
    "slideshow": {
     "slide_type": "fragment"
    }
   },
   "outputs": [],
   "source": [
    "def do_it(n):\n",
    "    try:\n",
    "        assert isinstance(n,int)\n",
    "    except AssertionError:\n",
    "        try:\n",
    "            assert isinstance(n,float)\n",
    "        except AssertionError:\n",
    "            return False, 0\n",
    "    if n==0:return True,0\n",
    "    else:\n",
    "        f,w = math.modf(n)\n",
    "        if f>=0.8:\n",
    "            n=int(w)+1\n",
    "        elif f<0.8:\n",
    "            n=int(w)\n",
    "        return True,n"
   ]
  },
  {
   "cell_type": "code",
   "execution_count": 8,
   "metadata": {
    "slideshow": {
     "slide_type": "fragment"
    }
   },
   "outputs": [
    {
     "data": {
      "text/plain": [
       "(True, 9)"
      ]
     },
     "execution_count": 8,
     "metadata": {},
     "output_type": "execute_result"
    }
   ],
   "source": [
    "do_it(8.8)"
   ]
  },
  {
   "cell_type": "markdown",
   "metadata": {
    "slideshow": {
     "slide_type": "slide"
    }
   },
   "source": [
    "### How could we make this better?"
   ]
  },
  {
   "cell_type": "markdown",
   "metadata": {
    "slideshow": {
     "slide_type": "fragment"
    }
   },
   "source": [
    "Names should have meaning to the intended readers..."
   ]
  },
  {
   "cell_type": "markdown",
   "metadata": {
    "slideshow": {
     "slide_type": "fragment"
    }
   },
   "source": [
    "   - You a week from now\n",
    "   - Your teammates tomorrow\n",
    "   - Your future teammates who have to deal with your code"
   ]
  },
  {
   "cell_type": "code",
   "execution_count": 9,
   "metadata": {
    "collapsed": true,
    "slideshow": {
     "slide_type": "subslide"
    }
   },
   "outputs": [],
   "source": [
    "# Let's make this less ;(\n",
    "def custom_round_number(number):\n",
    "    try:\n",
    "        assert isinstance(number,int)\n",
    "    except AssertionError:\n",
    "        try:\n",
    "            assert isinstance(number,float)\n",
    "        except AssertionError:\n",
    "            return False, 0\n",
    "    if number==0:return True,0\n",
    "    else:\n",
    "        frac,whole = math.modf(number)\n",
    "        if frac>=0.8:\n",
    "            number=int(whole)+1\n",
    "        elif frac<0.8:\n",
    "            number=int(whole)\n",
    "        return True,number"
   ]
  },
  {
   "cell_type": "code",
   "execution_count": 10,
   "metadata": {
    "slideshow": {
     "slide_type": "fragment"
    }
   },
   "outputs": [
    {
     "data": {
      "text/plain": [
       "(True, 9)"
      ]
     },
     "execution_count": 10,
     "metadata": {},
     "output_type": "execute_result"
    }
   ],
   "source": [
    "custom_round_number(8.8)"
   ]
  },
  {
   "cell_type": "markdown",
   "metadata": {
    "slideshow": {
     "slide_type": "slide"
    }
   },
   "source": [
    "### 2. Document Inputs and Outputs"
   ]
  },
  {
   "cell_type": "code",
   "execution_count": null,
   "metadata": {
    "collapsed": true,
    "slideshow": {
     "slide_type": "fragment"
    }
   },
   "outputs": [],
   "source": [
    "def custom_number_rounding(number):\n",
    "    try:\n",
    "        assert isinstance(number,int)\n",
    "    except AssertionError:\n",
    "        try:\n",
    "            assert isinstance(number,float)\n",
    "        except AssertionError:\n",
    "            return False, 0\n",
    "    if number==0:return True,0\n",
    "    else:\n",
    "        frac,whole = math.modf(number)\n",
    "        if frac>=0.8:\n",
    "            number=int(whole)+1\n",
    "        elif frac<0.8:\n",
    "            number=int(whole)\n",
    "        return True,number"
   ]
  },
  {
   "cell_type": "markdown",
   "metadata": {
    "slideshow": {
     "slide_type": "slide"
    }
   },
   "source": [
    "### How could we make this better?\n"
   ]
  },
  {
   "cell_type": "markdown",
   "metadata": {
    "slideshow": {
     "slide_type": "fragment"
    }
   },
   "source": [
    "Write a docstring! "
   ]
  },
  {
   "cell_type": "markdown",
   "metadata": {
    "slideshow": {
     "slide_type": "fragment"
    }
   },
   "source": [
    "The docstring should:\n",
    " - Describe the function briefly\n",
    " - Explicitly document the inputs \n",
    " - Explicitly document the outputs "
   ]
  },
  {
   "cell_type": "markdown",
   "metadata": {
    "slideshow": {
     "slide_type": "fragment"
    }
   },
   "source": [
    "Note there is more than one style for docstrings. Just be consistent."
   ]
  },
  {
   "cell_type": "code",
   "execution_count": 11,
   "metadata": {
    "slideshow": {
     "slide_type": "subslide"
    }
   },
   "outputs": [],
   "source": [
    "# Make this less :(\n",
    "def custom_number_rounding(number):\n",
    "    \"\"\"Takes a number and performs a custom rounding. Returns the rounded\n",
    "    number.\n",
    "    \n",
    "    Args:\n",
    "        number: int or float, meal serving size\n",
    "        \n",
    "    Returns:\n",
    "        bool\n",
    "        number: int, adjusted serving size\n",
    "    \"\"\"\n",
    "    try:\n",
    "        assert isinstance(number,int)\n",
    "    except AssertionError:\n",
    "        try:\n",
    "            assert isinstance(number,float)\n",
    "        except AssertionError:\n",
    "            return False, 0\n",
    "    if number==0:return True,0\n",
    "    else:\n",
    "        frac,whole = math.modf(number)\n",
    "        frac = round(frac, 1)\n",
    "        if frac >= 0.8:\n",
    "            number=int(whole)+1\n",
    "        elif frac<0.8:\n",
    "            number=int(whole)\n",
    "        return True,number"
   ]
  },
  {
   "cell_type": "code",
   "execution_count": 12,
   "metadata": {
    "slideshow": {
     "slide_type": "fragment"
    }
   },
   "outputs": [
    {
     "data": {
      "text/plain": [
       "(True, 7)"
      ]
     },
     "execution_count": 12,
     "metadata": {},
     "output_type": "execute_result"
    }
   ],
   "source": [
    "custom_number_rounding(6.8)"
   ]
  },
  {
   "cell_type": "markdown",
   "metadata": {
    "slideshow": {
     "slide_type": "slide"
    }
   },
   "source": [
    "### 3. Don't Repeat Yourself (DRY)"
   ]
  },
  {
   "cell_type": "markdown",
   "metadata": {
    "slideshow": {
     "slide_type": "fragment"
    }
   },
   "source": [
    "### How you 'dry' up your code?\n",
    " - Look for repeated logic as a starting point\n",
    " - If it's a straight repeat, make it a 'helper' function\n",
    " - If there are slight differences, make those as arguments to that function"
   ]
  },
  {
   "cell_type": "markdown",
   "metadata": {
    "slideshow": {
     "slide_type": "subslide"
    }
   },
   "source": [
    "Where is this function 'soggy'?"
   ]
  },
  {
   "cell_type": "code",
   "execution_count": 13,
   "metadata": {
    "collapsed": true,
    "slideshow": {
     "slide_type": "fragment"
    }
   },
   "outputs": [],
   "source": [
    "# Make this more :)\n",
    "def custom_number_rounding(number):\n",
    "    \"\"\" Takes in a number and separates out the whole and the fraction, and\n",
    "    returns a custom rounded value.\n",
    "    ...\n",
    "    \"\"\"\n",
    "    try:\n",
    "        assert type(number) in [int, float]\n",
    "    except AssertionError:\n",
    "        return False, 0\n",
    "    if number==0:return True,0\n",
    "    else:\n",
    "        frac,whole = math.modf(number)\n",
    "        if frac>=0.8:\n",
    "            number=int(whole)+1\n",
    "        elif frac<0.8:\n",
    "            number=int(whole)\n",
    "        return True,number"
   ]
  },
  {
   "cell_type": "code",
   "execution_count": 14,
   "metadata": {
    "slideshow": {
     "slide_type": "fragment"
    }
   },
   "outputs": [
    {
     "data": {
      "text/plain": [
       "(True, 7)"
      ]
     },
     "execution_count": 14,
     "metadata": {},
     "output_type": "execute_result"
    }
   ],
   "source": [
    "custom_number_rounding(6.9)"
   ]
  },
  {
   "cell_type": "markdown",
   "metadata": {
    "slideshow": {
     "slide_type": "slide"
    }
   },
   "source": [
    "### 4. Reduce cognitive load with PEP 8"
   ]
  },
  {
   "cell_type": "markdown",
   "metadata": {
    "slideshow": {
     "slide_type": "fragment"
    }
   },
   "source": [
    "What's `PEP 8`? It stands for Python Enchancement Proposal #8, and it contains a set of guidelines for proper / clean writing of Python code.\n",
    "\n",
    "Basically it makes your code easier for people to read! Without it, things can get nasty quick."
   ]
  },
  {
   "cell_type": "markdown",
   "metadata": {
    "slideshow": {
     "slide_type": "slide"
    }
   },
   "source": [
    "How long does it take you to understand what this function is doing?"
   ]
  },
  {
   "cell_type": "code",
   "execution_count": null,
   "metadata": {
    "collapsed": true,
    "slideshow": {
     "slide_type": "fragment"
    }
   },
   "outputs": [],
   "source": [
    "def GCD(a,b): \n",
    "    \"\"\"Return the GCD of a and b\"\"\"\n",
    "    a,b=max(a,b),min(a,b)\n",
    "    return b if a%b==0 else GCD(b,a%b)"
   ]
  },
  {
   "cell_type": "markdown",
   "metadata": {
    "slideshow": {
     "slide_type": "subslide"
    }
   },
   "source": [
    "What makes this one better?"
   ]
  },
  {
   "cell_type": "code",
   "execution_count": null,
   "metadata": {
    "collapsed": true,
    "slideshow": {
     "slide_type": "fragment"
    }
   },
   "outputs": [],
   "source": [
    "def gcd(a, b):\n",
    "    \"\"\"Return the GCD of a and b\n",
    "    \n",
    "    Args:\n",
    "        a: int, the first number (positive)\n",
    "        b: int, the second number (positive)\n",
    "    Returns:\n",
    "        int, the GCD of a and b\n",
    "    \"\"\"\n",
    "    if a < b:\n",
    "        b, a = a, b\n",
    "\n",
    "    if a % b:\n",
    "        return gcd(b, a%b)\n",
    "\n",
    "    return b"
   ]
  },
  {
   "cell_type": "markdown",
   "metadata": {
    "slideshow": {
     "slide_type": "fragment"
    }
   },
   "source": [
    "Remember, your code is for people!"
   ]
  },
  {
   "cell_type": "markdown",
   "metadata": {
    "slideshow": {
     "slide_type": "slide"
    }
   },
   "source": [
    "### PEP-8 is your friend!"
   ]
  },
  {
   "cell_type": "markdown",
   "metadata": {
    "slideshow": {
     "slide_type": "fragment"
    }
   },
   "source": [
    " - 79 character lines"
   ]
  },
  {
   "cell_type": "markdown",
   "metadata": {
    "slideshow": {
     "slide_type": "fragment"
    }
   },
   "source": [
    " - Use parenthesis for lines that span multiple lines"
   ]
  },
  {
   "cell_type": "markdown",
   "metadata": {
    "slideshow": {
     "slide_type": "fragment"
    }
   },
   "source": [
    " - function_names are snake_case"
   ]
  },
  {
   "cell_type": "markdown",
   "metadata": {
    "slideshow": {
     "slide_type": "fragment"
    }
   },
   "source": [
    " - ClassNames are CamelCase"
   ]
  },
  {
   "cell_type": "markdown",
   "metadata": {
    "slideshow": {
     "slide_type": "fragment"
    }
   },
   "source": [
    " - CONSTANT_NAMES are BIG_CASE"
   ]
  },
  {
   "cell_type": "markdown",
   "metadata": {
    "slideshow": {
     "slide_type": "fragment"
    }
   },
   "source": [
    " - One statement per line"
   ]
  },
  {
   "cell_type": "markdown",
   "metadata": {
    "slideshow": {
     "slide_type": "fragment"
    }
   },
   "source": [
    " - Use spaces not tabs!"
   ]
  },
  {
   "cell_type": "code",
   "execution_count": 15,
   "metadata": {
    "collapsed": true,
    "slideshow": {
     "slide_type": "slide"
    }
   },
   "outputs": [],
   "source": [
    "# Make this even more \") !\n",
    "def custom_number_rounding(number):\n",
    "    \"\"\" Takes in a number and separates out the whole and the fraction, and\n",
    "    returns a custom rounded value.\n",
    "    ...\n",
    "    \"\"\"\n",
    "    try:\n",
    "        assert type(number) in [int, float]\n",
    "    except AssertionError:\n",
    "        return False, 0\n",
    "    if number == 0:\n",
    "        return True, 0\n",
    "    else:\n",
    "        frac, whole = math.modf(number)\n",
    "        if frac >= 0.8:\n",
    "            number = int(whole) + 1\n",
    "        elif frac < 0.8:\n",
    "            number = int(whole)\n",
    "        return True, number"
   ]
  }
 ],
 "metadata": {
  "celltoolbar": "Slideshow",
  "kernelspec": {
   "display_name": "Python 3 (ipykernel)",
   "language": "python",
   "name": "python3"
  },
  "language_info": {
   "codemirror_mode": {
    "name": "ipython",
    "version": 3
   },
   "file_extension": ".py",
   "mimetype": "text/x-python",
   "name": "python",
   "nbconvert_exporter": "python",
   "pygments_lexer": "ipython3",
   "version": "3.10.5"
  }
 },
 "nbformat": 4,
 "nbformat_minor": 2
}
